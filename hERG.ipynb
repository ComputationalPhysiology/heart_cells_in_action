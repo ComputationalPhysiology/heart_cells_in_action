{
 "cells": [
  {
   "cell_type": "markdown",
   "metadata": {},
   "source": [
    "# hERG channel\n",
    "\n",
    "Write about the hERG channel https://en.wikipedia.org/wiki/HERG"
   ]
  },
  {
   "cell_type": "code",
   "execution_count": 1,
   "metadata": {},
   "outputs": [],
   "source": [
    "import utils\n",
    "import matplotlib.pyplot as plt"
   ]
  },
  {
   "cell_type": "code",
   "execution_count": 2,
   "metadata": {},
   "outputs": [
    {
     "data": {
      "text/plain": [
       "['tentusscher_noble_noble_panfilov_2006_c.ode',\n",
       " 'tentusscher_2004_mcell_updated.ode',\n",
       " 'paci_hyttinen_aaltosetala_severi_ventricularVersion.ode']"
      ]
     },
     "execution_count": 2,
     "metadata": {},
     "output_type": "execute_result"
    }
   ],
   "source": [
    "utils.list_ode_models()"
   ]
  },
  {
   "cell_type": "code",
   "execution_count": 3,
   "metadata": {},
   "outputs": [],
   "source": [
    "model_name = \"tentusscher_noble_noble_panfilov_2006_c\""
   ]
  },
  {
   "cell_type": "code",
   "execution_count": 4,
   "metadata": {},
   "outputs": [
    {
     "name": "stdout",
     "output_type": "stream",
     "text": [
      "Loaded ODE model 'tentusscher_noble_noble_panfilov_2006_c' with:\n",
      "     Num full states: 17\n",
      "      Num parameters: 46\n"
     ]
    }
   ],
   "source": [
    "model = utils.load_model(model_name, rebuild=False)"
   ]
  },
  {
   "cell_type": "code",
   "execution_count": 5,
   "metadata": {},
   "outputs": [],
   "source": [
    "t, u = model.solve(t_start=0, t_end=1000.0, dt=0.1)"
   ]
  },
  {
   "cell_type": "code",
   "execution_count": 6,
   "metadata": {},
   "outputs": [
    {
     "name": "stdout",
     "output_type": "stream",
     "text": [
      "15\n"
     ]
    }
   ],
   "source": [
    "V_index = model.state_index(\"V\")\n",
    "print(V_index)"
   ]
  },
  {
   "cell_type": "code",
   "execution_count": 7,
   "metadata": {},
   "outputs": [],
   "source": [
    "V = u[:, V_index]"
   ]
  },
  {
   "cell_type": "code",
   "execution_count": 8,
   "metadata": {
    "scrolled": true
   },
   "outputs": [
    {
     "data": {
      "text/plain": [
       "[<matplotlib.lines.Line2D at 0x7fcb48de60d0>]"
      ]
     },
     "execution_count": 8,
     "metadata": {},
     "output_type": "execute_result"
    },
    {
     "data": {
      "image/png": "[encoded data removed]",
      "text/plain": [
       "<Figure size 432x288 with 1 Axes>"
      ]
     },
     "metadata": {
      "needs_background": "light"
     },
     "output_type": "display_data"
    }
   ],
   "source": [
    "fig, ax = plt.subplots()\n",
    "ax.plot(t, V)"
   ]
  },
  {
   "cell_type": "code",
   "execution_count": 9,
   "metadata": {},
   "outputs": [
    {
     "name": "stdout",
     "output_type": "stream",
     "text": [
      "[ 3.00000000e-02  5.40500000e+00  9.60000000e-02  2.45000000e-01\n",
      "  1.48380000e+01  2.90000000e-04  1.75000000e-04  5.92000000e-04\n",
      "  7.30000000e-02  4.00000000e+01  1.00000000e+00  1.36200000e+00\n",
      "  1.00000000e+03  1.00000000e-01  1.38000000e+00  8.75000000e+01\n",
      "  2.50000000e+00  3.50000000e-01  5.00000000e-04  8.25000000e-01\n",
      "  1.46000000e-02  1.50000000e-01  1.00000000e+01  2.00000000e+00\n",
      "  1.00000000e-03  3.00000000e-01  2.50000000e-04  8.00000000e-05\n",
      "  1.09400000e-03  4.25000000e-04  1.64640000e-02  2.50000000e-01\n",
      "  8.23200000e-03  2.00000000e+00  1.40000000e+02 -5.20000000e+01\n",
      "  5.00000000e+04  1.00000000e+03  1.00000000e+00  1.00000000e+02\n",
      "  1.85000000e-01  9.64853415e+04  8.31447200e+03  3.10000000e+02\n",
      "  1.64040000e-02  5.40000000e+00]\n",
      "[ 3.00000000e-02  5.40500000e+00  9.60000000e-02  2.45000000e-01\n",
      "  1.48380000e+01  2.90000000e-04  1.75000000e-04  5.92000000e-04\n",
      "  7.30000000e-02  4.00000000e+01  1.00000000e+00  1.36200000e+00\n",
      "  1.00000000e+03  1.00000000e-01  1.38000000e+00  8.75000000e+01\n",
      "  2.50000000e+00  3.50000000e-01  5.00000000e-04  8.25000000e-01\n",
      "  1.46000000e-02  1.50000000e-01  1.00000000e+01  2.00000000e+00\n",
      "  1.00000000e-03  3.00000000e-01  2.50000000e-04  8.00000000e-05\n",
      "  1.09400000e-03  4.25000000e-04  1.64640000e-02  2.50000000e-01\n",
      "  8.23200000e-03  2.00000000e+00  1.40000000e+02 -5.20000000e+01\n",
      "  5.00000000e+04  1.00000000e+03  1.00000000e+00  1.00000000e+02\n",
      "  1.85000000e-01  9.64853415e+04  8.31447200e+03  3.10000000e+02\n",
      "  1.64040000e-02  5.40000000e+00]\n"
     ]
    }
   ],
   "source": [
    "# List all monitor names\n",
    "# model.monitor_names()\n",
    "parameters = model.default_parameters()\n",
    "i_Kr = model.monitor_single(\"i_Kr\", u, t, parameters)"
   ]
  },
  {
   "cell_type": "code",
   "execution_count": 10,
   "metadata": {
    "scrolled": true
   },
   "outputs": [
    {
     "data": {
      "text/plain": [
       "[<matplotlib.lines.Line2D at 0x7fcb1841f430>]"
      ]
     },
     "execution_count": 10,
     "metadata": {},
     "output_type": "execute_result"
    },
    {
     "data": {
      "image/png": "[encoded data removed]",
      "text/plain": [
       "<Figure size 432x288 with 1 Axes>"
      ]
     },
     "metadata": {
      "needs_background": "light"
     },
     "output_type": "display_data"
    }
   ],
   "source": [
    "fig, ax = plt.subplots()\n",
    "ax.plot(t, i_Kr)"
   ]
  },
  {
   "cell_type": "code",
   "execution_count": 18,
   "metadata": {
    "scrolled": true
   },
   "outputs": [
    {
     "data": {
      "text/plain": [
       "['P_kna',\n",
       " 'g_K1',\n",
       " 'g_Kr',\n",
       " 'g_Ks',\n",
       " 'g_Na',\n",
       " 'g_bna',\n",
       " 'g_CaL',\n",
       " 'g_bca',\n",
       " 'g_to',\n",
       " 'K_mNa',\n",
       " 'K_mk',\n",
       " 'P_NaK',\n",
       " 'K_NaCa',\n",
       " 'K_sat',\n",
       " 'Km_Ca',\n",
       " 'Km_Nai',\n",
       " 'alpha',\n",
       " 'gamma',\n",
       " 'K_pCa',\n",
       " 'g_pCa',\n",
       " 'g_pK',\n",
       " 'Buf_c',\n",
       " 'Buf_sr',\n",
       " 'Ca_o',\n",
       " 'K_buf_c',\n",
       " 'K_buf_sr',\n",
       " 'K_up',\n",
       " 'V_leak',\n",
       " 'V_sr',\n",
       " 'Vmax_up',\n",
       " 'a_rel',\n",
       " 'b_rel',\n",
       " 'c_rel',\n",
       " 'tau_g',\n",
       " 'Na_o',\n",
       " 'IstimAmplitude',\n",
       " 'IstimEnd',\n",
       " 'IstimPeriod',\n",
       " 'IstimPulseDuration',\n",
       " 'IstimStart',\n",
       " 'Cm',\n",
       " 'F',\n",
       " 'R',\n",
       " 'T',\n",
       " 'V_c',\n",
       " 'K_o']"
      ]
     },
     "execution_count": 18,
     "metadata": {},
     "output_type": "execute_result"
    }
   ],
   "source": [
    "model.parameter_names()"
   ]
  },
  {
   "cell_type": "code",
   "execution_count": 11,
   "metadata": {},
   "outputs": [
    {
     "name": "stdout",
     "output_type": "stream",
     "text": [
      "Update paramameter g_Kr from 0.096 to 0.019200000000000002\n"
     ]
    }
   ],
   "source": [
    "parameters = model.default_parameters()\n",
    "parameters[\"g_Kr\"] *= 0.2\n",
    "t2, u2 = model.solve(t_start=0, t_end=1000.0, dt=0.1, parameters=parameters)"
   ]
  },
  {
   "cell_type": "code",
   "execution_count": 12,
   "metadata": {},
   "outputs": [],
   "source": [
    "V_kr_block = u2[:, V_index]"
   ]
  },
  {
   "cell_type": "code",
   "execution_count": 13,
   "metadata": {
    "scrolled": false
   },
   "outputs": [
    {
     "data": {
      "text/plain": [
       "<matplotlib.legend.Legend at 0x7fa229033d00>"
      ]
     },
     "execution_count": 13,
     "metadata": {},
     "output_type": "execute_result"
    },
    {
     "data": {
      "image/png": "[encoded data removed]",
      "text/plain": [
       "<Figure size 432x288 with 1 Axes>"
      ]
     },
     "metadata": {
      "needs_background": "light"
     },
     "output_type": "display_data"
    }
   ],
   "source": [
    "fig, ax = plt.subplots()\n",
    "ax.plot(t, V, label=\"Original\")\n",
    "ax.plot(t2, V_kr_block, label=\"Kr block\")\n",
    "ax.legend(loc=\"best\")"
   ]
  },
  {
   "cell_type": "code",
   "execution_count": 14,
   "metadata": {},
   "outputs": [],
   "source": [
    "i_Kr_block = model.monitor_single(\"i_Kr\", u, t, parameters=parameters)"
   ]
  },
  {
   "cell_type": "code",
   "execution_count": 48,
   "metadata": {},
   "outputs": [
    {
     "data": {
      "application/vnd.jupyter.widget-view+json": {
       "model_id": "",
       "version_major": 2,
       "version_minor": 0
      },
      "text/plain": [
       "Canvas(toolbar=Toolbar(toolitems=[('Home', 'Reset original view', 'home', 'home'), ('Back', 'Back to previous …"
      ]
     },
     "metadata": {},
     "output_type": "display_data"
    },
    {
     "data": {
      "text/plain": [
       "<matplotlib.legend.Legend at 0x7fa77a6d39a0>"
      ]
     },
     "execution_count": 48,
     "metadata": {},
     "output_type": "execute_result"
    }
   ],
   "source": [
    "fig, ax = plt.subplots()\n",
    "ax.plot(t, i_Kr, label=\"Original\")\n",
    "ax.plot(t2, i_Kr_block, label=\"Kr block\")\n",
    "ax.legend(loc=\"best\")"
   ]
  },
  {
   "cell_type": "code",
   "execution_count": 22,
   "metadata": {},
   "outputs": [],
   "source": [
    "import ipywidgets as widgets"
   ]
  },
  {
   "cell_type": "code",
   "execution_count": 28,
   "metadata": {},
   "outputs": [
    {
     "data": {
      "application/vnd.jupyter.widget-view+json": {
       "model_id": "",
       "version_major": 2,
       "version_minor": 0
      },
      "text/plain": [
       "Canvas(toolbar=Toolbar(toolitems=[('Home', 'Reset original view', 'home', 'home'), ('Back', 'Back to previous …"
      ]
     },
     "metadata": {},
     "output_type": "display_data"
    },
    {
     "data": {
      "application/vnd.jupyter.widget-view+json": {
       "model_id": "aa678a08d2084bf4b00e34c4c5dd3f0e",
       "version_major": 2,
       "version_minor": 0
      },
      "text/plain": [
       "interactive(children=(FloatSlider(value=0.0, description='block', max=1.0, min=-1.0), Output()), _dom_classes=…"
      ]
     },
     "metadata": {},
     "output_type": "display_data"
    }
   ],
   "source": [
    "%matplotlib widget\n",
    "fig, ax = plt.subplots(2, 1, sharex=True)\n",
    "ax[0].plot(t, V, label=\"Original\")\n",
    "line_V, = ax[0].plot(t, V, label=\"Kr block\")\n",
    "ax[0].legend(loc=\"best\")\n",
    "ax[0].set_title(\"Voltage\")\n",
    "ax[1].plot(t, i_Kr, label=\"Original\")\n",
    "line_iKr, = ax[1].plot(t, i_Kr, label=\"Kr block\")\n",
    "ax[1].legend(loc=\"best\")\n",
    "ax[1].set_title(\"i Kr\")\n",
    "\n",
    "@widgets.interact(block=(-1, 1, 0.1))\n",
    "def Kr_block(block):\n",
    "    parameters = model.default_parameters().copy()\n",
    "    parameters[\"g_Kr\"] *= (1 + block)\n",
    "    t2, u2 = model.solve(t_start=0, t_end=1000.0, dt=0.1, parameters=parameters)\n",
    "    i_Kr_block = model.monitor_single(\"i_Kr\", u2, t2, parameters=parameters)\n",
    "    V_kr_block = u2[:, V_index]\n",
    "    line_V.set_ydata(V_kr_block)\n",
    "    line_iKr.set_ydata(i_Kr_block)\n",
    "    fig.canvas.draw_idle()\n",
    " "
   ]
  },
  {
   "cell_type": "code",
   "execution_count": null,
   "metadata": {},
   "outputs": [],
   "source": []
  }
 ],
 "metadata": {
  "kernelspec": {
   "display_name": "Python 3",
   "language": "python",
   "name": "python3"
  },
  "language_info": {
   "codemirror_mode": {
    "name": "ipython",
    "version": 3
   },
   "file_extension": ".py",
   "mimetype": "text/x-python",
   "name": "python",
   "nbconvert_exporter": "python",
   "pygments_lexer": "ipython3",
   "version": "3.8.1"
  }
 },
 "nbformat": 4,
 "nbformat_minor": 2
}
